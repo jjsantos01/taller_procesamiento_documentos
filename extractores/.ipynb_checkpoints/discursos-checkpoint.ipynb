{
 "cells": [
  {
   "cell_type": "code",
   "execution_count": 1,
   "metadata": {
    "collapsed": true
   },
   "outputs": [],
   "source": [
    "import requests\n",
    "from bs4 import BeautifulSoup\n",
    "import os\n",
    "import time\n",
    "from tika import parser # tika requiere tener instalado Java 7+\n",
    "import pandas as pd\n",
    "dir_discurso = 'discursos'"
   ]
  },
  {
   "cell_type": "markdown",
   "metadata": {},
   "source": [
    "# Descarga"
   ]
  },
  {
   "cell_type": "code",
   "execution_count": 2,
   "metadata": {
    "collapsed": true
   },
   "outputs": [],
   "source": [
    "url_base = 'https://www.banxico.org.mx'\n",
    "url_discursos = url_base + '/publicaciones-y-prensa/discursos/discursos-junta-gobierno-pala.html'\n",
    "headers = {'User-Agent': 'Mozilla/5.0 (Windows NT 6.1; Win64; x64) AppleWebKit/537.36 (KHTML, like Gecko) Chrome/78.0.3904.97 Safari/537.36'}\n",
    "resp = requests.get(url_discursos, headers=headers)"
   ]
  },
  {
   "cell_type": "code",
   "execution_count": 3,
   "metadata": {
    "collapsed": true
   },
   "outputs": [],
   "source": [
    "soup = BeautifulSoup(resp.content, 'lxml')\n",
    "documentos = [(tag.select_one('td[class=\"bmtextview\"]').text, tag.select_one('a')['href']) for tag in soup.select('tr')]"
   ]
  },
  {
   "cell_type": "code",
   "execution_count": 4,
   "metadata": {
    "collapsed": true
   },
   "outputs": [],
   "source": [
    "for doc in documentos:\n",
    "    if 'disponible sólo en inglés' in doc[0]:\n",
    "        continue\n",
    "    pdfname = f'{dir_discurso}/{doc[1].split(\"/\")[-1]}'\n",
    "    if not os.path.exists(pdfname):\n",
    "        time.sleep(1)\n",
    "        resp = requests.get(url_base+doc[1], headers=headers)\n",
    "        with open(pdfname, 'wb') as file:\n",
    "            file.write(resp.content)"
   ]
  },
  {
   "cell_type": "markdown",
   "metadata": {},
   "source": [
    "# Extrae texto"
   ]
  },
  {
   "cell_type": "code",
   "execution_count": 5,
   "metadata": {},
   "outputs": [
    {
     "name": "stderr",
     "output_type": "stream",
     "text": [
      "2019-11-22 11:58:26,604 [MainThread  ] [WARNI]  Failed to see startup log message; retrying...\n"
     ]
    }
   ],
   "source": [
    "texto_discursos = []\n",
    "for doc in documentos:\n",
    "    if 'disponible sólo en inglés' in doc[0]:\n",
    "        continue\n",
    "\n",
    "    pdfname = f'{dir_discurso}/{doc[1].split(\"/\")[-1]}'\n",
    "    try:\n",
    "        raw = parser.from_file(pdfname)\n",
    "        entrada =  {'archivo': pdfname, 'titulo': doc[0],'texto': ' '.join(raw['content'].split()[0:5000])}\n",
    "        texto_discursos.append(entrada)\n",
    "    except:\n",
    "        print('problema con', pdfname)"
   ]
  },
  {
   "cell_type": "code",
   "execution_count": null,
   "metadata": {},
   "outputs": [],
   "source": []
  },
  {
   "cell_type": "code",
   "execution_count": 8,
   "metadata": {},
   "outputs": [
    {
     "data": {
      "text/html": [
       "<div>\n",
       "<style scoped>\n",
       "    .dataframe tbody tr th:only-of-type {\n",
       "        vertical-align: middle;\n",
       "    }\n",
       "\n",
       "    .dataframe tbody tr th {\n",
       "        vertical-align: top;\n",
       "    }\n",
       "\n",
       "    .dataframe thead th {\n",
       "        text-align: right;\n",
       "    }\n",
       "</style>\n",
       "<table border=\"1\" class=\"dataframe\">\n",
       "  <thead>\n",
       "    <tr style=\"text-align: right;\">\n",
       "      <th></th>\n",
       "      <th>archivo</th>\n",
       "      <th>texto</th>\n",
       "      <th>titulo</th>\n",
       "    </tr>\n",
       "  </thead>\n",
       "  <tbody>\n",
       "    <tr>\n",
       "      <th>0</th>\n",
       "      <td>discursos/{0CF3D30D-2EE7-81DE-5A25-79D9D3391F3...</td>\n",
       "      <td>Palabras del Lic. Alejandro Díaz de León, Gobe...</td>\n",
       "      <td>\"La importancia de la autonomía de la banca ce...</td>\n",
       "    </tr>\n",
       "    <tr>\n",
       "      <th>1</th>\n",
       "      <td>discursos/{EA967153-2AC4-97F2-C6BB-28634631C67...</td>\n",
       "      <td>Palabras del Lic. Alejandro Díaz de León, Gobe...</td>\n",
       "      <td>\"Inauguración de la XI Conferencia sobre Educa...</td>\n",
       "    </tr>\n",
       "    <tr>\n",
       "      <th>2</th>\n",
       "      <td>discursos/{B11F2552-BDB5-BC21-3DDF-FB62AE2C341...</td>\n",
       "      <td>Palabras del Lic. Alejandro Díaz de León, Gobe...</td>\n",
       "      <td>\"Ceremonia de inauguración de la exposición Cr...</td>\n",
       "    </tr>\n",
       "    <tr>\n",
       "      <th>3</th>\n",
       "      <td>discursos/{813918D3-3710-EE26-B5EB-E800B21427F...</td>\n",
       "      <td>Palabras del Lic. Alejandro Díaz de León, Gobe...</td>\n",
       "      <td>\"Inauguración del seminario sobre Estabilidad ...</td>\n",
       "    </tr>\n",
       "    <tr>\n",
       "      <th>4</th>\n",
       "      <td>discursos/{822B0923-7213-CA97-8B63-DA6F24FA08C...</td>\n",
       "      <td>Palabras del Lic. Alejandro Díaz de León, Gobe...</td>\n",
       "      <td>\"Inauguración de la Cuarta Convención Nacional...</td>\n",
       "    </tr>\n",
       "  </tbody>\n",
       "</table>\n",
       "</div>"
      ],
      "text/plain": [
       "                                             archivo  \\\n",
       "0  discursos/{0CF3D30D-2EE7-81DE-5A25-79D9D3391F3...   \n",
       "1  discursos/{EA967153-2AC4-97F2-C6BB-28634631C67...   \n",
       "2  discursos/{B11F2552-BDB5-BC21-3DDF-FB62AE2C341...   \n",
       "3  discursos/{813918D3-3710-EE26-B5EB-E800B21427F...   \n",
       "4  discursos/{822B0923-7213-CA97-8B63-DA6F24FA08C...   \n",
       "\n",
       "                                               texto  \\\n",
       "0  Palabras del Lic. Alejandro Díaz de León, Gobe...   \n",
       "1  Palabras del Lic. Alejandro Díaz de León, Gobe...   \n",
       "2  Palabras del Lic. Alejandro Díaz de León, Gobe...   \n",
       "3  Palabras del Lic. Alejandro Díaz de León, Gobe...   \n",
       "4  Palabras del Lic. Alejandro Díaz de León, Gobe...   \n",
       "\n",
       "                                              titulo  \n",
       "0  \"La importancia de la autonomía de la banca ce...  \n",
       "1  \"Inauguración de la XI Conferencia sobre Educa...  \n",
       "2  \"Ceremonia de inauguración de la exposición Cr...  \n",
       "3  \"Inauguración del seminario sobre Estabilidad ...  \n",
       "4  \"Inauguración de la Cuarta Convención Nacional...  "
      ]
     },
     "execution_count": 8,
     "metadata": {},
     "output_type": "execute_result"
    }
   ],
   "source": [
    "df = pd.DataFrame(data=texto_discursos)\n",
    "df.to_csv('../datos/discursos.csv', index=False)\n",
    "df.head()"
   ]
  },
  {
   "cell_type": "code",
   "execution_count": null,
   "metadata": {
    "collapsed": true
   },
   "outputs": [],
   "source": []
  }
 ],
 "metadata": {
  "hide_input": false,
  "kernelspec": {
   "display_name": "Python 3",
   "language": "python",
   "name": "python3"
  },
  "language_info": {
   "codemirror_mode": {
    "name": "ipython",
    "version": 3
   },
   "file_extension": ".py",
   "mimetype": "text/x-python",
   "name": "python",
   "nbconvert_exporter": "python",
   "pygments_lexer": "ipython3",
   "version": "3.6.4"
  },
  "toc": {
   "base_numbering": 1,
   "nav_menu": {},
   "number_sections": true,
   "sideBar": true,
   "skip_h1_title": false,
   "title_cell": "Table of Contents",
   "title_sidebar": "Contents",
   "toc_cell": false,
   "toc_position": {},
   "toc_section_display": true,
   "toc_window_display": false
  },
  "varInspector": {
   "cols": {
    "lenName": 16,
    "lenType": 16,
    "lenVar": 40
   },
   "kernels_config": {
    "python": {
     "delete_cmd_postfix": "",
     "delete_cmd_prefix": "del ",
     "library": "var_list.py",
     "varRefreshCmd": "print(var_dic_list())"
    },
    "r": {
     "delete_cmd_postfix": ") ",
     "delete_cmd_prefix": "rm(",
     "library": "var_list.r",
     "varRefreshCmd": "cat(var_dic_list()) "
    }
   },
   "types_to_exclude": [
    "module",
    "function",
    "builtin_function_or_method",
    "instance",
    "_Feature"
   ],
   "window_display": false
  }
 },
 "nbformat": 4,
 "nbformat_minor": 2
}
