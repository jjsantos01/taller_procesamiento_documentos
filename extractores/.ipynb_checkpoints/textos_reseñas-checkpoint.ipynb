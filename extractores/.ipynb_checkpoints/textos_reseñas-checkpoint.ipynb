{
 "cells": [
  {
   "cell_type": "code",
   "execution_count": 1,
   "metadata": {
    "collapsed": true
   },
   "outputs": [],
   "source": [
    "import json\n",
    "import glob\n",
    "import pandas as pd\n",
    "\n",
    "dir_reviews = 'D:/Descargas/restaurante-review-dataset'"
   ]
  },
  {
   "cell_type": "code",
   "execution_count": 2,
   "metadata": {
    "collapsed": true
   },
   "outputs": [],
   "source": [
    "def read_review(file):\n",
    "    with open(file, 'r') as jsonfile:\n",
    "        data = json.load(jsonfile)\n",
    "    if data:\n",
    "        return data[0]\n",
    "    else:\n",
    "        return ''"
   ]
  },
  {
   "cell_type": "code",
   "execution_count": null,
   "metadata": {
    "collapsed": true
   },
   "outputs": [],
   "source": [
    "archivos_pos = glob.glob1(dir_reviews+'/pos', '*.json')\n",
    "archivos_neg = glob.glob1(dir_reviews+'/neg', '*.json')\n",
    "reviews_pos = []\n",
    "reviews_neg = []\n",
    "for a in archivos_pos:\n",
    "    reviews_pos.append(read_review(f'{dir_reviews}/pos/{a}'))\n",
    "for a in archivos_neg:\n",
    "    reviews_neg.append(read_review(f'{dir_reviews}/neg/{a}'))"
   ]
  },
  {
   "cell_type": "code",
   "execution_count": null,
   "metadata": {
    "collapsed": true
   },
   "outputs": [],
   "source": [
    "df_pos = pd.DataFrame(data=reviews_pos, columns=['comentario'])\\\n",
    "        .assign(calif=1)\n",
    "df_neg = pd.DataFrame(data=reviews_neg, columns=['comentario'])\\\n",
    "        .assign(calif=0)\n",
    "\n",
    "df_reviews = pd.concat([df_pos, df_neg])\n",
    "df_reviews.to_csv('datos/comentarios_restaurantes.csv', index=False)"
   ]
  },
  {
   "cell_type": "code",
   "execution_count": null,
   "metadata": {
    "collapsed": true
   },
   "outputs": [],
   "source": []
  }
 ],
 "metadata": {
  "hide_input": false,
  "kernelspec": {
   "display_name": "Python 3",
   "language": "python",
   "name": "python3"
  },
  "language_info": {
   "codemirror_mode": {
    "name": "ipython",
    "version": 3
   },
   "file_extension": ".py",
   "mimetype": "text/x-python",
   "name": "python",
   "nbconvert_exporter": "python",
   "pygments_lexer": "ipython3",
   "version": "3.6.4"
  },
  "toc": {
   "base_numbering": 1,
   "nav_menu": {},
   "number_sections": true,
   "sideBar": true,
   "skip_h1_title": false,
   "title_cell": "Table of Contents",
   "title_sidebar": "Contents",
   "toc_cell": false,
   "toc_position": {},
   "toc_section_display": true,
   "toc_window_display": false
  },
  "varInspector": {
   "cols": {
    "lenName": 16,
    "lenType": 16,
    "lenVar": 40
   },
   "kernels_config": {
    "python": {
     "delete_cmd_postfix": "",
     "delete_cmd_prefix": "del ",
     "library": "var_list.py",
     "varRefreshCmd": "print(var_dic_list())"
    },
    "r": {
     "delete_cmd_postfix": ") ",
     "delete_cmd_prefix": "rm(",
     "library": "var_list.r",
     "varRefreshCmd": "cat(var_dic_list()) "
    }
   },
   "types_to_exclude": [
    "module",
    "function",
    "builtin_function_or_method",
    "instance",
    "_Feature"
   ],
   "window_display": false
  }
 },
 "nbformat": 4,
 "nbformat_minor": 2
}
