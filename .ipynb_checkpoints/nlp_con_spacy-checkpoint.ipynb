{
 "cells": [
  {
   "cell_type": "markdown",
   "metadata": {},
   "source": [
    "# Introducción a NLP con spaCy\n",
    "\n",
    "> _Preparado por: [Juan Javier Santos Ochoa](https://twitter.com/jjsantoso) ([LNPP](https://www.lnpp.mx/))_\n",
    "\n",
    "<img src=\"imagenes/SpaCy_logo.png\" width=600>\n",
    "\n",
    "* [spaCy es una librería](https://spacy.io/) de Python para hacer procesamiento del lenguaje natural (NLP), especialmente pensada para ser usada en producción.\n",
    "* Es relativamente nueva y se ha hecho muy popular porque ya incluye modelos preentrenados para desarrollar algunas tareas de NLP, como la representación vectorial de palabras y el reconocimiento de partes del discurso y de entidades.\n",
    "* spacy permite descargar modelos de diferentes idiomas, entre ellos el español. Estos modelos están construidos con técnicas de redes neuronales pero no necesitamos saber nada de redes neuronales para utilizarlos.\n",
    "* Para instalar la librería podemos usar pip desde la terminal de comandos:\n",
    "```\n",
    "pip install spacy\n",
    "```\n",
    "* La versión más reciente es la 2.2.3 que es con la que trabajaremos a continuación."
   ]
  },
  {
   "cell_type": "code",
   "execution_count": null,
   "metadata": {},
   "outputs": [],
   "source": [
    "#!pip install spacy"
   ]
  },
  {
   "cell_type": "code",
   "execution_count": null,
   "metadata": {},
   "outputs": [],
   "source": [
    "import spacy\n",
    "from spacy import displacy\n",
    "import pandas as pd\n",
    "pd.options.display.max_colwidth = 300\n",
    "print(pd.__name__, pd.__version__)\n",
    "print(spacy.__name__, spacy.__version__)"
   ]
  },
  {
   "cell_type": "markdown",
   "metadata": {},
   "source": [
    "* Podemos descargar los modelos de spacy también desde la terminal de comandos. Todos los modelos disponibles se [pueden consultar aquí](https://spacy.io/models)\n",
    "* En este caso descargamos el modelo de idioma español, entrenado con un corpus de artículos de noticias."
   ]
  },
  {
   "cell_type": "code",
   "execution_count": null,
   "metadata": {},
   "outputs": [],
   "source": [
    "!python -m spacy download es_core_news_md"
   ]
  },
  {
   "cell_type": "markdown",
   "metadata": {},
   "source": [
    "## Datos\n",
    "\n",
    "* Usaremos un conjunto de datos que contiene noticias sobre corrupción en varios medios de México"
   ]
  },
  {
   "cell_type": "code",
   "execution_count": null,
   "metadata": {},
   "outputs": [],
   "source": [
    "noticias = pd.read_csv('datos/noticias_corrupcion.csv')\n",
    "noticias.head()"
   ]
  },
  {
   "cell_type": "markdown",
   "metadata": {},
   "source": [
    "## Modelo\n",
    "* Para cargar un modelo usamos la función `spacy.load()`\n",
    "* Esto crea un objeto tipo lenguaje.\n",
    "* Si le pasamos un texto lo convierte en un documento."
   ]
  },
  {
   "cell_type": "code",
   "execution_count": null,
   "metadata": {},
   "outputs": [],
   "source": [
    "nlp = spacy.load(\"es_core_news_md\")\n",
    "nlp"
   ]
  },
  {
   "cell_type": "markdown",
   "metadata": {},
   "source": [
    "## Tipos de objetos\n",
    "\n",
    "* Los principales objetos con los que trabaja spacy son los documentos, pero también son muy útiles los tokens y spans.\n",
    "\n",
    "<img src=\"imagenes/span.png\" width=600>"
   ]
  },
  {
   "cell_type": "code",
   "execution_count": null,
   "metadata": {},
   "outputs": [],
   "source": [
    "doc = nlp(\"Esta es una frase de ejemplo\")\n",
    "doc"
   ]
  },
  {
   "cell_type": "code",
   "execution_count": null,
   "metadata": {},
   "outputs": [],
   "source": [
    "type(doc)"
   ]
  },
  {
   "cell_type": "markdown",
   "metadata": {},
   "source": [
    "* Un documento está compuesto de tokens y se puede indexar para obtener tokens individuales. EL resultado es un objeto tipo `Token`"
   ]
  },
  {
   "cell_type": "code",
   "execution_count": null,
   "metadata": {},
   "outputs": [],
   "source": [
    "doc[1], type(doc[1])"
   ]
  },
  {
   "cell_type": "markdown",
   "metadata": {},
   "source": [
    "* También se pueden indexar varios valores, como en una lista, y el resultado es un objeto tìpo `Span`"
   ]
  },
  {
   "cell_type": "code",
   "execution_count": null,
   "metadata": {},
   "outputs": [],
   "source": [
    "(doc[2:4], type(doc[2:4]))"
   ]
  },
  {
   "cell_type": "markdown",
   "metadata": {},
   "source": [
    "## Propiedades de los tokens\n",
    "* Los tokens tienen algunos atributos y métodos útiles para el preprocesamiento de los datos. Algunos de esto son `.pos_`, `.lemma_`, `.is_stop`, `.tag_`"
   ]
  },
  {
   "cell_type": "code",
   "execution_count": null,
   "metadata": {},
   "outputs": [],
   "source": [
    "for w in doc:\n",
    "    print(w.text, w.pos_, w.lemma_, w.is_stop, w.tag_, sep=' | ')"
   ]
  },
  {
   "cell_type": "markdown",
   "metadata": {},
   "source": [
    "> Puede consultar las stopwords de spacy en `spacy.lang.es.STOP_WORDS`"
   ]
  },
  {
   "cell_type": "markdown",
   "metadata": {},
   "source": [
    "## Propiedades de los documentos\n",
    "\n",
    "* Creamos un documento al pasar texto al modelo `nlp` que cargamos\n"
   ]
  },
  {
   "cell_type": "code",
   "execution_count": null,
   "metadata": {},
   "outputs": [],
   "source": [
    "doc1 = nlp(noticias.loc[0, 'texto'])\n",
    "doc2 = nlp(noticias.loc[10, 'texto'])"
   ]
  },
  {
   "cell_type": "code",
   "execution_count": null,
   "metadata": {},
   "outputs": [],
   "source": [
    "doc1"
   ]
  },
  {
   "cell_type": "markdown",
   "metadata": {},
   "source": [
    "### Representación vectorial\n",
    "* Cada documento tiene una representación vectorial calculada a partir del modelo entrenado por spacy. El vector se puede ver con el atributo `.vector` del documento"
   ]
  },
  {
   "cell_type": "code",
   "execution_count": null,
   "metadata": {},
   "outputs": [],
   "source": [
    "doc1.vector "
   ]
  },
  {
   "cell_type": "markdown",
   "metadata": {},
   "source": [
    "### Similitud\n",
    "* Usando la representación vectorial podemos comparar varios documentos usando el método `.similarity()`\n",
    "* El resultado es la similitud coseno, un coeficiente entre -1 y 1 que a mayor valor indica mayor similitud."
   ]
  },
  {
   "cell_type": "code",
   "execution_count": null,
   "metadata": {},
   "outputs": [],
   "source": [
    "doc1.similarity(doc2)"
   ]
  },
  {
   "cell_type": "markdown",
   "metadata": {},
   "source": [
    "## Representación vectorial de palabras\n",
    "\n",
    "* Spacy también incluye un vocabulario con las palabras que entrenó su modelo.\n",
    "* Cada palabra también tiene una representación vectorial en el atributo `.vector`\n",
    "* Con esta representación se puede calcular la similitud entre palabras o incluso entre palabras y documentos."
   ]
  },
  {
   "cell_type": "code",
   "execution_count": null,
   "metadata": {},
   "outputs": [],
   "source": [
    "vocab = nlp.vocab\n",
    "lex = vocab['banco']\n",
    "lex.vector"
   ]
  },
  {
   "cell_type": "code",
   "execution_count": null,
   "metadata": {},
   "outputs": [],
   "source": [
    "lex2 = vocab['dinero']\n",
    "lex.similarity(lex2)"
   ]
  },
  {
   "cell_type": "code",
   "execution_count": null,
   "metadata": {},
   "outputs": [],
   "source": [
    "lex.similarity(doc1[0:10])"
   ]
  },
  {
   "cell_type": "markdown",
   "metadata": {},
   "source": [
    "## Reconocimiento de entidades\n",
    "* Los modelos de spacy tienen la capacidad de detectar entidades dentro del texto. Las entidades pueden ser personas, organizaciones, lugares, eventos, fechas, cantidades entre otros.\n",
    "* En un documento automáticamente se identifican las entidades y el tipo de entidad que es. Estas se pueden encontrar en el atributo `.ents` de los documentos"
   ]
  },
  {
   "cell_type": "code",
   "execution_count": null,
   "metadata": {
    "scrolled": true
   },
   "outputs": [],
   "source": [
    "for e in doc1.ents:\n",
    "    print(e.text, e.label_, spacy.explain(e.label_), sep='|')"
   ]
  },
  {
   "cell_type": "code",
   "execution_count": null,
   "metadata": {},
   "outputs": [],
   "source": [
    "for e in doc2.ents:\n",
    "    print(e.text, e.label_, spacy.explain(e.label_), sep='|')"
   ]
  },
  {
   "cell_type": "markdown",
   "metadata": {},
   "source": [
    "* Spacy también incluye un módulo para visualizar las entidades encontradas. El módulo está en `spacy.displacy`\n",
    "* Para visualizar dentro de un notebook se usa la función `.render()` sobre un documento, especificando las opciones `style=\"ent\"` y `jupyter=True`"
   ]
  },
  {
   "cell_type": "code",
   "execution_count": null,
   "metadata": {},
   "outputs": [],
   "source": [
    "displacy.render(doc1, style='ent', jupyter=True)"
   ]
  },
  {
   "cell_type": "code",
   "execution_count": null,
   "metadata": {},
   "outputs": [],
   "source": [
    "displacy.render(doc2, style='ent', jupyter=True)"
   ]
  },
  {
   "cell_type": "markdown",
   "metadata": {},
   "source": [
    "## Procesando varios documentos\n",
    "\n",
    "* Si tenemos una colección de textos que queremos convertir a documentos de spacy, la manera más eficiente de hacerlo es usando `nlp.pipe`, que retorna un generador. Si queremos traerlos a memoria convertimos el resultado en una lista. Esta lista contendrá cada documento."
   ]
  },
  {
   "cell_type": "code",
   "execution_count": null,
   "metadata": {},
   "outputs": [],
   "source": [
    "docs_corrupcion = list(nlp.pipe(noticias['texto']))"
   ]
  },
  {
   "cell_type": "code",
   "execution_count": null,
   "metadata": {},
   "outputs": [],
   "source": [
    "doc3 = docs_corrupcion[199]"
   ]
  },
  {
   "cell_type": "code",
   "execution_count": null,
   "metadata": {},
   "outputs": [],
   "source": [
    "displacy.render(doc3, jupyter=True, style='ent')"
   ]
  }
 ],
 "metadata": {
  "hide_input": false,
  "kernelspec": {
   "display_name": "Python 3",
   "language": "python",
   "name": "python3"
  },
  "language_info": {
   "codemirror_mode": {
    "name": "ipython",
    "version": 3
   },
   "file_extension": ".py",
   "mimetype": "text/x-python",
   "name": "python",
   "nbconvert_exporter": "python",
   "pygments_lexer": "ipython3",
   "version": "3.6.4"
  },
  "toc": {
   "base_numbering": 1,
   "nav_menu": {},
   "number_sections": true,
   "sideBar": true,
   "skip_h1_title": false,
   "title_cell": "Table of Contents",
   "title_sidebar": "Contents",
   "toc_cell": false,
   "toc_position": {},
   "toc_section_display": true,
   "toc_window_display": false
  },
  "varInspector": {
   "cols": {
    "lenName": 16,
    "lenType": 16,
    "lenVar": 40
   },
   "kernels_config": {
    "python": {
     "delete_cmd_postfix": "",
     "delete_cmd_prefix": "del ",
     "library": "var_list.py",
     "varRefreshCmd": "print(var_dic_list())"
    },
    "r": {
     "delete_cmd_postfix": ") ",
     "delete_cmd_prefix": "rm(",
     "library": "var_list.r",
     "varRefreshCmd": "cat(var_dic_list()) "
    }
   },
   "types_to_exclude": [
    "module",
    "function",
    "builtin_function_or_method",
    "instance",
    "_Feature"
   ],
   "window_display": false
  }
 },
 "nbformat": 4,
 "nbformat_minor": 2
}
